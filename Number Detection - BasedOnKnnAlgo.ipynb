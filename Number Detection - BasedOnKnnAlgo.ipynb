{
 "cells": [
  {
   "cell_type": "code",
   "execution_count": 2,
   "metadata": {},
   "outputs": [],
   "source": [
    "import numpy as np\n",
    "import pandas as pd\n",
    "from matplotlib import pyplot as plt\n",
    "%matplotlib inline"
   ]
  },
  {
   "cell_type": "code",
   "execution_count": 7,
   "metadata": {},
   "outputs": [
    {
     "name": "stdout",
     "output_type": "stream",
     "text": [
      "(42000, 785)\n",
      "(42000, 785)\n"
     ]
    }
   ],
   "source": [
    "ds = pd.read_csv('./train.csv')\n",
    "# print(ds)\n",
    "print(ds.shape)\n",
    "\n",
    "data = ds.values\n",
    "print(data.shape)"
   ]
  },
  {
   "cell_type": "code",
   "execution_count": 18,
   "metadata": {},
   "outputs": [
    {
     "name": "stdout",
     "output_type": "stream",
     "text": [
      "[1 0 1 ... 7 6 9]\n",
      "[[0 0 0 ... 0 0 0]\n",
      " [0 0 0 ... 0 0 0]\n",
      " [0 0 0 ... 0 0 0]\n",
      " ...\n",
      " [0 0 0 ... 0 0 0]\n",
      " [0 0 0 ... 0 0 0]\n",
      " [0 0 0 ... 0 0 0]]\n",
      "8\n"
     ]
    },
    {
     "data": {
      "text/plain": [
       "<matplotlib.image.AxesImage at 0x28bbc9b5988>"
      ]
     },
     "execution_count": 18,
     "metadata": {},
     "output_type": "execute_result"
    },
    {
     "data": {
      "image/png": "[encoded data removed]",
      "text/plain": [
       "<Figure size 432x288 with 1 Axes>"
      ]
     },
     "metadata": {
      "needs_background": "light"
     },
     "output_type": "display_data"
    }
   ],
   "source": [
    "y_train = data[:,0]\n",
    "x_train = data[:,1:]\n",
    "\n",
    "print(y_train)\n",
    "print(x_train)\n",
    "\n",
    "plt.figure(0)\n",
    "idx = 1204\n",
    "print(y_train[idx])\n",
    "plt.imshow(x_train[idx].reshape((28,28)),cmap='gray')"
   ]
  },
  {
   "cell_type": "code",
   "execution_count": 22,
   "metadata": {},
   "outputs": [],
   "source": [
    "def dist(x1,x2):\n",
    "    return np.sqrt(((x1-x2)**2).sum())\n",
    "\n",
    "def knn(X_train,query_point,y_train,k=5):\n",
    "    vals = []\n",
    "    \n",
    "    for ix in range(X_train.shape[0]):\n",
    "        v = [dist(query_point,X_train[ix,:]),y_train[ix]]\n",
    "        #vals is a list containing distance and their labels\n",
    "        vals.append(v)\n",
    "        \n",
    "    updated_vals = sorted(vals, key=lambda x: x[0])\n",
    "    \n",
    "    #let us pick up top k values \n",
    "    pred_arr = np.asarray(updated_vals[:k])\n",
    "    pred_arr = np.unique(pred_arr[:,1],return_counts = True)\n",
    "#     print(pred_arr)\n",
    "    index = pred_arr[1].argmax()\n",
    "    return pred_arr, pred_arr[0][index]"
   ]
  },
  {
   "cell_type": "code",
   "execution_count": 34,
   "metadata": {},
   "outputs": [
    {
     "name": "stdout",
     "output_type": "stream",
     "text": [
      "((array([3., 5., 9.]), array([2, 1, 4], dtype=int64)), 9.0)\n",
      "9\n"
     ]
    },
    {
     "data": {
      "image/png": "[encoded data removed]",
      "text/plain": [
       "<Figure size 432x288 with 1 Axes>"
      ]
     },
     "metadata": {
      "needs_background": "light"
     },
     "output_type": "display_data"
    }
   ],
   "source": [
    "idq = int(np.random.random() * x_train.shape[0])\n",
    "q = x_train[idq]\n",
    "\n",
    "res = knn(x_train[:10000],q,y_train[:10000], k=7)\n",
    "print(res)\n",
    "print(y_train[idq])\n",
    "\n",
    "plt.figure(0)\n",
    "plt.imshow(q.reshape((28, 28)), cmap='gray')\n",
    "plt.show()"
   ]
  }
 ],
 "metadata": {
  "kernelspec": {
   "display_name": "Python 3",
   "language": "python",
   "name": "python3"
  },
  "language_info": {
   "codemirror_mode": {
    "name": "ipython",
    "version": 3
   },
   "file_extension": ".py",
   "mimetype": "text/x-python",
   "name": "python",
   "nbconvert_exporter": "python",
   "pygments_lexer": "ipython3",
   "version": "3.7.4"
  }
 },
 "nbformat": 4,
 "nbformat_minor": 2
}
